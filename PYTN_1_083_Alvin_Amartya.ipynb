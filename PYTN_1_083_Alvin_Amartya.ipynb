{
 "cells": [
  {
   "cell_type": "markdown",
   "metadata": {},
   "source": [
    "# Assignment 1 Data Visualization\n",
    "\n",
    "Goals of this project to practice data visualization using python. So, the student can create consistent data visualization.\n",
    "The data on this project using London Crime Dataset. And on the end of this project, we will answer the question on below using Data Visualization, as follows:\n",
    "1. What is the change in the number of criminal cases from 2008 to 2016?\n",
    "2. What are the most frequent criminal acts per region in 2016?\n",
    "\n",
    "## Project Instruction\n",
    "1. Download the required Dataset in https://www.kaggle.com/jboysen/london-crime, then save to folder `/dataset`.\n",
    "2. Create a new notebook, then rename the file to `PYTN_1_<batch number>_<nama>`.\n",
    "3. Perform data visualization on dataset such as Line, Area, Scatter Plot, Box Plot, Word Clouds, Folium Map, and the method of visualization plots that have been studied.\n",
    "4. Collect information using your analysis."
   ]
  },
  {
   "cell_type": "markdown",
   "metadata": {},
   "source": [
    "## Project Rubric\n",
    "### Code Review\n",
    "- Area Plot --> Implement Area Plot using `Matplotlib` with relevant data and according to the function of the plot/graph.\n",
    "- Histogram --> Implement Histogram using `Matplotlib` with relevant data and according to the function of the plot/graph.\n",
    "- Bar Chart --> Implement Bar Chart using `Matplotlib` with relevant data and according to the function of the plot/graph.\n",
    "- Pie Chart --> Implement Pie Chart using `Matplotlib` with relevant data and according to the function of the plot/graph.\n",
    "- Box Plot --> Implement Box Plot using `Matplotlib` with relevant data and according to the function of the plot/graph.\n",
    "- Scatter Plot --> Implement Scatter Plot using `Matplotlib` with relevant data and according to the function of the plot/graph.\n",
    "- Word Clouds --> Implement Word Clouds using `Wordclouds` library with relevant data and according to the function of the plot/graph.\n",
    "- Folium Maps --> Implement London Maps using `Folium`\n",
    "- Preprocessing --> Student preprocess the dataset before applying the visualization. Does the code run without any error?\n",
    "- Does the code run without any error? --> The whole code works and builds correctly.\n",
    "\n",
    "### Readability\n",
    "- Well arranged --> All cells in notebook are well documented with markdown on each cell for code explanation.\n",
    "\n",
    "### Analysis\n",
    "- Area Plot --> Draw information/conclusion based on the Area Plot that students have made.\n",
    "- Histogram --> Draw information/conclusion based on the Histogram that students have made.\n",
    "- Bar Chart --> Draw information/conclusion based on the Bar Chart that students have made.\n",
    "- Pie Chart --> Draw information/conclusion based on the Pie Chart that students have made.\n",
    "- Box Plot --> Draw information/conclusion based on the Box Plot that students have made.\n",
    "- Scatter Plot --> Draw information/conclusion based on the Scatter Plot that students have made.\n",
    "- Overall Analysis --> Draw information/conclusion of the whole plot that can answer the hypothesis."
   ]
  },
  {
   "cell_type": "code",
   "execution_count": 1,
   "metadata": {},
   "outputs": [],
   "source": [
    "# import numpy and pandas for read data and preprocessing\n",
    "import numpy as np\n",
    "import pandas as pd\n",
    "\n",
    "# import folium for maps\n",
    "import folium\n",
    "from folium import plugins\n",
    "\n",
    "# import wordclouds\n",
    "from wordcloud import WordCloud, STOPWORDS\n",
    "\n",
    "# import matplotlib for visualization data\n",
    "import matplotlib as mpl\n",
    "import matplotlib.pyplot as plt\n",
    "%matplotlib inline\n",
    "\n",
    "mpl.style.use('ggplot')"
   ]
  },
  {
   "cell_type": "code",
   "execution_count": 2,
   "metadata": {},
   "outputs": [
    {
     "data": {
      "text/html": [
       "<div>\n",
       "<style scoped>\n",
       "    .dataframe tbody tr th:only-of-type {\n",
       "        vertical-align: middle;\n",
       "    }\n",
       "\n",
       "    .dataframe tbody tr th {\n",
       "        vertical-align: top;\n",
       "    }\n",
       "\n",
       "    .dataframe thead th {\n",
       "        text-align: right;\n",
       "    }\n",
       "</style>\n",
       "<table border=\"1\" class=\"dataframe\">\n",
       "  <thead>\n",
       "    <tr style=\"text-align: right;\">\n",
       "      <th></th>\n",
       "      <th>lsoa_code</th>\n",
       "      <th>borough</th>\n",
       "      <th>major_category</th>\n",
       "      <th>minor_category</th>\n",
       "      <th>value</th>\n",
       "      <th>year</th>\n",
       "      <th>month</th>\n",
       "    </tr>\n",
       "  </thead>\n",
       "  <tbody>\n",
       "    <tr>\n",
       "      <th>0</th>\n",
       "      <td>E01001116</td>\n",
       "      <td>Croydon</td>\n",
       "      <td>Burglary</td>\n",
       "      <td>Burglary in Other Buildings</td>\n",
       "      <td>0</td>\n",
       "      <td>2016</td>\n",
       "      <td>11</td>\n",
       "    </tr>\n",
       "    <tr>\n",
       "      <th>1</th>\n",
       "      <td>E01001646</td>\n",
       "      <td>Greenwich</td>\n",
       "      <td>Violence Against the Person</td>\n",
       "      <td>Other violence</td>\n",
       "      <td>0</td>\n",
       "      <td>2016</td>\n",
       "      <td>11</td>\n",
       "    </tr>\n",
       "    <tr>\n",
       "      <th>2</th>\n",
       "      <td>E01000677</td>\n",
       "      <td>Bromley</td>\n",
       "      <td>Violence Against the Person</td>\n",
       "      <td>Other violence</td>\n",
       "      <td>0</td>\n",
       "      <td>2015</td>\n",
       "      <td>5</td>\n",
       "    </tr>\n",
       "    <tr>\n",
       "      <th>3</th>\n",
       "      <td>E01003774</td>\n",
       "      <td>Redbridge</td>\n",
       "      <td>Burglary</td>\n",
       "      <td>Burglary in Other Buildings</td>\n",
       "      <td>0</td>\n",
       "      <td>2016</td>\n",
       "      <td>3</td>\n",
       "    </tr>\n",
       "    <tr>\n",
       "      <th>4</th>\n",
       "      <td>E01004563</td>\n",
       "      <td>Wandsworth</td>\n",
       "      <td>Robbery</td>\n",
       "      <td>Personal Property</td>\n",
       "      <td>0</td>\n",
       "      <td>2008</td>\n",
       "      <td>6</td>\n",
       "    </tr>\n",
       "  </tbody>\n",
       "</table>\n",
       "</div>"
      ],
      "text/plain": [
       "   lsoa_code     borough               major_category  \\\n",
       "0  E01001116     Croydon                     Burglary   \n",
       "1  E01001646   Greenwich  Violence Against the Person   \n",
       "2  E01000677     Bromley  Violence Against the Person   \n",
       "3  E01003774   Redbridge                     Burglary   \n",
       "4  E01004563  Wandsworth                      Robbery   \n",
       "\n",
       "                minor_category  value  year  month  \n",
       "0  Burglary in Other Buildings      0  2016     11  \n",
       "1               Other violence      0  2016     11  \n",
       "2               Other violence      0  2015      5  \n",
       "3  Burglary in Other Buildings      0  2016      3  \n",
       "4            Personal Property      0  2008      6  "
      ]
     },
     "execution_count": 2,
     "metadata": {},
     "output_type": "execute_result"
    }
   ],
   "source": [
    "# import data to data frame using pandas\n",
    "df_lon_crime = pd.read_csv('dataset/london_crime_by_lsoa.csv')\n",
    "df_lon_crime.head() # show data frame"
   ]
  },
  {
   "cell_type": "markdown",
   "metadata": {},
   "source": [
    "## Data Cleansing\n",
    "Data cleansing is the stage of making data clean by deleting, changing or updating."
   ]
  },
  {
   "cell_type": "code",
   "execution_count": 3,
   "metadata": {},
   "outputs": [
    {
     "name": "stdout",
     "output_type": "stream",
     "text": [
      "<class 'pandas.core.frame.DataFrame'>\n",
      "RangeIndex: 13490604 entries, 0 to 13490603\n",
      "Data columns (total 7 columns):\n",
      " #   Column          Dtype \n",
      "---  ------          ----- \n",
      " 0   lsoa_code       object\n",
      " 1   borough         object\n",
      " 2   major_category  object\n",
      " 3   minor_category  object\n",
      " 4   value           int64 \n",
      " 5   year            int64 \n",
      " 6   month           int64 \n",
      "dtypes: int64(3), object(4)\n",
      "memory usage: 720.5+ MB\n"
     ]
    }
   ],
   "source": [
    "# copy dataset for backup and show detail information of data frame\n",
    "df_lon_crime2 = df_lon_crime.copy()\n",
    "df_lon_crime2.info()"
   ]
  },
  {
   "cell_type": "markdown",
   "metadata": {},
   "source": [
    "From the information above, we can find out the information from the column and the data type in each column. And for my analysis, i have to rename the columns, such as:\n",
    "- `lsoa_code` to be `LSOA`\n",
    "- `borough` to be `Region`\n",
    "- `major_category` to be `Category`\n",
    "- `minor_category` to be `Detail`\n",
    "- `value` to be `Value`\n",
    "- `year` to be `Year`\n",
    "- `month` to be `Month`"
   ]
  },
  {
   "cell_type": "code",
   "execution_count": 4,
   "metadata": {},
   "outputs": [
    {
     "data": {
      "text/html": [
       "<div>\n",
       "<style scoped>\n",
       "    .dataframe tbody tr th:only-of-type {\n",
       "        vertical-align: middle;\n",
       "    }\n",
       "\n",
       "    .dataframe tbody tr th {\n",
       "        vertical-align: top;\n",
       "    }\n",
       "\n",
       "    .dataframe thead th {\n",
       "        text-align: right;\n",
       "    }\n",
       "</style>\n",
       "<table border=\"1\" class=\"dataframe\">\n",
       "  <thead>\n",
       "    <tr style=\"text-align: right;\">\n",
       "      <th></th>\n",
       "      <th>LSOA</th>\n",
       "      <th>Region</th>\n",
       "      <th>Category</th>\n",
       "      <th>Detail</th>\n",
       "      <th>Value</th>\n",
       "      <th>Year</th>\n",
       "      <th>Month</th>\n",
       "    </tr>\n",
       "  </thead>\n",
       "  <tbody>\n",
       "    <tr>\n",
       "      <th>0</th>\n",
       "      <td>E01001116</td>\n",
       "      <td>Croydon</td>\n",
       "      <td>Burglary</td>\n",
       "      <td>Burglary in Other Buildings</td>\n",
       "      <td>0</td>\n",
       "      <td>2016</td>\n",
       "      <td>11</td>\n",
       "    </tr>\n",
       "    <tr>\n",
       "      <th>1</th>\n",
       "      <td>E01001646</td>\n",
       "      <td>Greenwich</td>\n",
       "      <td>Violence Against the Person</td>\n",
       "      <td>Other violence</td>\n",
       "      <td>0</td>\n",
       "      <td>2016</td>\n",
       "      <td>11</td>\n",
       "    </tr>\n",
       "    <tr>\n",
       "      <th>2</th>\n",
       "      <td>E01000677</td>\n",
       "      <td>Bromley</td>\n",
       "      <td>Violence Against the Person</td>\n",
       "      <td>Other violence</td>\n",
       "      <td>0</td>\n",
       "      <td>2015</td>\n",
       "      <td>5</td>\n",
       "    </tr>\n",
       "    <tr>\n",
       "      <th>3</th>\n",
       "      <td>E01003774</td>\n",
       "      <td>Redbridge</td>\n",
       "      <td>Burglary</td>\n",
       "      <td>Burglary in Other Buildings</td>\n",
       "      <td>0</td>\n",
       "      <td>2016</td>\n",
       "      <td>3</td>\n",
       "    </tr>\n",
       "    <tr>\n",
       "      <th>4</th>\n",
       "      <td>E01004563</td>\n",
       "      <td>Wandsworth</td>\n",
       "      <td>Robbery</td>\n",
       "      <td>Personal Property</td>\n",
       "      <td>0</td>\n",
       "      <td>2008</td>\n",
       "      <td>6</td>\n",
       "    </tr>\n",
       "  </tbody>\n",
       "</table>\n",
       "</div>"
      ],
      "text/plain": [
       "        LSOA      Region                     Category  \\\n",
       "0  E01001116     Croydon                     Burglary   \n",
       "1  E01001646   Greenwich  Violence Against the Person   \n",
       "2  E01000677     Bromley  Violence Against the Person   \n",
       "3  E01003774   Redbridge                     Burglary   \n",
       "4  E01004563  Wandsworth                      Robbery   \n",
       "\n",
       "                        Detail  Value  Year  Month  \n",
       "0  Burglary in Other Buildings      0  2016     11  \n",
       "1               Other violence      0  2016     11  \n",
       "2               Other violence      0  2015      5  \n",
       "3  Burglary in Other Buildings      0  2016      3  \n",
       "4            Personal Property      0  2008      6  "
      ]
     },
     "execution_count": 4,
     "metadata": {},
     "output_type": "execute_result"
    }
   ],
   "source": [
    "# rename the column of data frame\n",
    "df_lon_crime2.rename(columns={'lsoa_code':'LSOA', 'borough':'Region', 'major_category':'Category', 'minor_category':'Detail','value':'Value','year':'Year','month':'Month'}, inplace=True)\n",
    "df_lon_crime2.head()"
   ]
  },
  {
   "cell_type": "code",
   "execution_count": 5,
   "metadata": {},
   "outputs": [
    {
     "data": {
      "text/plain": [
       "LSOA        0\n",
       "Region      0\n",
       "Category    0\n",
       "Detail      0\n",
       "Value       0\n",
       "Year        0\n",
       "Month       0\n",
       "dtype: int64"
      ]
     },
     "execution_count": 5,
     "metadata": {},
     "output_type": "execute_result"
    }
   ],
   "source": [
    "# Show number of null data\n",
    "df_lon_crime2.isna().sum()"
   ]
  },
  {
   "cell_type": "markdown",
   "metadata": {},
   "source": [
    "From the information above, we can know that there isn't nullable data in Data Frame."
   ]
  },
  {
   "cell_type": "code",
   "execution_count": 6,
   "metadata": {},
   "outputs": [
    {
     "data": {
      "text/html": [
       "<div>\n",
       "<style scoped>\n",
       "    .dataframe tbody tr th:only-of-type {\n",
       "        vertical-align: middle;\n",
       "    }\n",
       "\n",
       "    .dataframe tbody tr th {\n",
       "        vertical-align: top;\n",
       "    }\n",
       "\n",
       "    .dataframe thead th {\n",
       "        text-align: right;\n",
       "    }\n",
       "</style>\n",
       "<table border=\"1\" class=\"dataframe\">\n",
       "  <thead>\n",
       "    <tr style=\"text-align: right;\">\n",
       "      <th></th>\n",
       "      <th>LSOA</th>\n",
       "      <th>Region</th>\n",
       "      <th>Category</th>\n",
       "      <th>Detail</th>\n",
       "      <th>Value</th>\n",
       "      <th>Year</th>\n",
       "      <th>Month</th>\n",
       "    </tr>\n",
       "  </thead>\n",
       "  <tbody>\n",
       "    <tr>\n",
       "      <th>9</th>\n",
       "      <td>E01004177</td>\n",
       "      <td>Sutton</td>\n",
       "      <td>Theft and Handling</td>\n",
       "      <td>Theft/Taking of Pedal Cycle</td>\n",
       "      <td>1</td>\n",
       "      <td>2016</td>\n",
       "      <td>8</td>\n",
       "    </tr>\n",
       "    <tr>\n",
       "      <th>16</th>\n",
       "      <td>E01000086</td>\n",
       "      <td>Barking and Dagenham</td>\n",
       "      <td>Theft and Handling</td>\n",
       "      <td>Other Theft Person</td>\n",
       "      <td>1</td>\n",
       "      <td>2009</td>\n",
       "      <td>5</td>\n",
       "    </tr>\n",
       "    <tr>\n",
       "      <th>24</th>\n",
       "      <td>E01001301</td>\n",
       "      <td>Ealing</td>\n",
       "      <td>Theft and Handling</td>\n",
       "      <td>Other Theft Person</td>\n",
       "      <td>2</td>\n",
       "      <td>2012</td>\n",
       "      <td>1</td>\n",
       "    </tr>\n",
       "    <tr>\n",
       "      <th>25</th>\n",
       "      <td>E01001794</td>\n",
       "      <td>Hackney</td>\n",
       "      <td>Violence Against the Person</td>\n",
       "      <td>Harassment</td>\n",
       "      <td>1</td>\n",
       "      <td>2013</td>\n",
       "      <td>2</td>\n",
       "    </tr>\n",
       "    <tr>\n",
       "      <th>32</th>\n",
       "      <td>E01000733</td>\n",
       "      <td>Bromley</td>\n",
       "      <td>Criminal Damage</td>\n",
       "      <td>Criminal Damage To Motor Vehicle</td>\n",
       "      <td>1</td>\n",
       "      <td>2016</td>\n",
       "      <td>4</td>\n",
       "    </tr>\n",
       "  </tbody>\n",
       "</table>\n",
       "</div>"
      ],
      "text/plain": [
       "         LSOA                Region                     Category  \\\n",
       "9   E01004177                Sutton           Theft and Handling   \n",
       "16  E01000086  Barking and Dagenham           Theft and Handling   \n",
       "24  E01001301                Ealing           Theft and Handling   \n",
       "25  E01001794               Hackney  Violence Against the Person   \n",
       "32  E01000733               Bromley              Criminal Damage   \n",
       "\n",
       "                              Detail  Value  Year  Month  \n",
       "9        Theft/Taking of Pedal Cycle      1  2016      8  \n",
       "16                Other Theft Person      1  2009      5  \n",
       "24                Other Theft Person      2  2012      1  \n",
       "25                        Harassment      1  2013      2  \n",
       "32  Criminal Damage To Motor Vehicle      1  2016      4  "
      ]
     },
     "execution_count": 6,
     "metadata": {},
     "output_type": "execute_result"
    }
   ],
   "source": [
    "# Remove the missing value\n",
    "df_lon_crime2 = df_lon_crime2[df_lon_crime2['Value'] > 0]\n",
    "df_lon_crime2.head()"
   ]
  },
  {
   "cell_type": "markdown",
   "metadata": {},
   "source": [
    "I cleared the data which has a value of 0, which means there are no cases for criminal acts for that category in the area in that month and year. So that I don't need that data for my analysis."
   ]
  },
  {
   "cell_type": "markdown",
   "metadata": {},
   "source": [
    "## Data Preprocessing\n",
    "Data preprocessing is a technique used to convert raw data into useful and efficient formats."
   ]
  },
  {
   "cell_type": "markdown",
   "metadata": {},
   "source": [
    "From the data, I have to have a column as an index to make it easier for me to manipulate data, but in current data frame doesn't have a unique column. So, I have to create a new column using combination of `LSOA-Detail-Year-Month` which named `ID`."
   ]
  },
  {
   "cell_type": "code",
   "execution_count": 7,
   "metadata": {},
   "outputs": [
    {
     "data": {
      "text/html": [
       "<div>\n",
       "<style scoped>\n",
       "    .dataframe tbody tr th:only-of-type {\n",
       "        vertical-align: middle;\n",
       "    }\n",
       "\n",
       "    .dataframe tbody tr th {\n",
       "        vertical-align: top;\n",
       "    }\n",
       "\n",
       "    .dataframe thead th {\n",
       "        text-align: right;\n",
       "    }\n",
       "</style>\n",
       "<table border=\"1\" class=\"dataframe\">\n",
       "  <thead>\n",
       "    <tr style=\"text-align: right;\">\n",
       "      <th></th>\n",
       "      <th>LSOA</th>\n",
       "      <th>Region</th>\n",
       "      <th>Category</th>\n",
       "      <th>Detail</th>\n",
       "      <th>Value</th>\n",
       "      <th>Year</th>\n",
       "      <th>Month</th>\n",
       "      <th>ID</th>\n",
       "    </tr>\n",
       "  </thead>\n",
       "  <tbody>\n",
       "    <tr>\n",
       "      <th>9</th>\n",
       "      <td>E01004177</td>\n",
       "      <td>Sutton</td>\n",
       "      <td>Theft and Handling</td>\n",
       "      <td>Theft/Taking of Pedal Cycle</td>\n",
       "      <td>1</td>\n",
       "      <td>2016</td>\n",
       "      <td>8</td>\n",
       "      <td>E01004177-Theft/Taking of Pedal Cycle-2016-8</td>\n",
       "    </tr>\n",
       "    <tr>\n",
       "      <th>16</th>\n",
       "      <td>E01000086</td>\n",
       "      <td>Barking and Dagenham</td>\n",
       "      <td>Theft and Handling</td>\n",
       "      <td>Other Theft Person</td>\n",
       "      <td>1</td>\n",
       "      <td>2009</td>\n",
       "      <td>5</td>\n",
       "      <td>E01000086-Other Theft Person-2009-5</td>\n",
       "    </tr>\n",
       "    <tr>\n",
       "      <th>24</th>\n",
       "      <td>E01001301</td>\n",
       "      <td>Ealing</td>\n",
       "      <td>Theft and Handling</td>\n",
       "      <td>Other Theft Person</td>\n",
       "      <td>2</td>\n",
       "      <td>2012</td>\n",
       "      <td>1</td>\n",
       "      <td>E01001301-Other Theft Person-2012-1</td>\n",
       "    </tr>\n",
       "    <tr>\n",
       "      <th>25</th>\n",
       "      <td>E01001794</td>\n",
       "      <td>Hackney</td>\n",
       "      <td>Violence Against the Person</td>\n",
       "      <td>Harassment</td>\n",
       "      <td>1</td>\n",
       "      <td>2013</td>\n",
       "      <td>2</td>\n",
       "      <td>E01001794-Harassment-2013-2</td>\n",
       "    </tr>\n",
       "    <tr>\n",
       "      <th>32</th>\n",
       "      <td>E01000733</td>\n",
       "      <td>Bromley</td>\n",
       "      <td>Criminal Damage</td>\n",
       "      <td>Criminal Damage To Motor Vehicle</td>\n",
       "      <td>1</td>\n",
       "      <td>2016</td>\n",
       "      <td>4</td>\n",
       "      <td>E01000733-Criminal Damage To Motor Vehicle-2016-4</td>\n",
       "    </tr>\n",
       "  </tbody>\n",
       "</table>\n",
       "</div>"
      ],
      "text/plain": [
       "         LSOA                Region                     Category  \\\n",
       "9   E01004177                Sutton           Theft and Handling   \n",
       "16  E01000086  Barking and Dagenham           Theft and Handling   \n",
       "24  E01001301                Ealing           Theft and Handling   \n",
       "25  E01001794               Hackney  Violence Against the Person   \n",
       "32  E01000733               Bromley              Criminal Damage   \n",
       "\n",
       "                              Detail  Value  Year  Month  \\\n",
       "9        Theft/Taking of Pedal Cycle      1  2016      8   \n",
       "16                Other Theft Person      1  2009      5   \n",
       "24                Other Theft Person      2  2012      1   \n",
       "25                        Harassment      1  2013      2   \n",
       "32  Criminal Damage To Motor Vehicle      1  2016      4   \n",
       "\n",
       "                                                   ID  \n",
       "9        E01004177-Theft/Taking of Pedal Cycle-2016-8  \n",
       "16                E01000086-Other Theft Person-2009-5  \n",
       "24                E01001301-Other Theft Person-2012-1  \n",
       "25                        E01001794-Harassment-2013-2  \n",
       "32  E01000733-Criminal Damage To Motor Vehicle-2016-4  "
      ]
     },
     "execution_count": 7,
     "metadata": {},
     "output_type": "execute_result"
    }
   ],
   "source": [
    "df_lon_crime2['ID'] = df_lon_crime2['LSOA'] + '-' + df_lon_crime2['Detail'] + '-' + df_lon_crime2['Year'].astype(str) + '-' + df_lon_crime2['Month'].astype(str)\n",
    "df_lon_crime2.head()"
   ]
  },
  {
   "cell_type": "code",
   "execution_count": 8,
   "metadata": {},
   "outputs": [
    {
     "name": "stdout",
     "output_type": "stream",
     "text": [
      "<class 'pandas.core.frame.DataFrame'>\n",
      "Int64Index: 3419099 entries, 9 to 13490600\n",
      "Data columns (total 8 columns):\n",
      " #   Column    Dtype \n",
      "---  ------    ----- \n",
      " 0   LSOA      object\n",
      " 1   Region    object\n",
      " 2   Category  object\n",
      " 3   Detail    object\n",
      " 4   Value     int64 \n",
      " 5   Year      int64 \n",
      " 6   Month     int64 \n",
      " 7   ID        object\n",
      "dtypes: int64(3), object(5)\n",
      "memory usage: 234.8+ MB\n"
     ]
    }
   ],
   "source": [
    "df_lon_crime2.info() # show information of data frame"
   ]
  },
  {
   "cell_type": "code",
   "execution_count": 9,
   "metadata": {},
   "outputs": [
    {
     "data": {
      "text/plain": [
       "3419099"
      ]
     },
     "execution_count": 9,
     "metadata": {},
     "output_type": "execute_result"
    }
   ],
   "source": [
    "len(df_lon_crime2['ID'].unique()) # show the count of unique data from ID column"
   ]
  },
  {
   "cell_type": "markdown",
   "metadata": {},
   "source": [
    "From information above, we can use ID column as index."
   ]
  },
  {
   "cell_type": "code",
   "execution_count": 10,
   "metadata": {},
   "outputs": [
    {
     "data": {
      "text/html": [
       "<div>\n",
       "<style scoped>\n",
       "    .dataframe tbody tr th:only-of-type {\n",
       "        vertical-align: middle;\n",
       "    }\n",
       "\n",
       "    .dataframe tbody tr th {\n",
       "        vertical-align: top;\n",
       "    }\n",
       "\n",
       "    .dataframe thead th {\n",
       "        text-align: right;\n",
       "    }\n",
       "</style>\n",
       "<table border=\"1\" class=\"dataframe\">\n",
       "  <thead>\n",
       "    <tr style=\"text-align: right;\">\n",
       "      <th></th>\n",
       "      <th>LSOA</th>\n",
       "      <th>Region</th>\n",
       "      <th>Category</th>\n",
       "      <th>Detail</th>\n",
       "      <th>Value</th>\n",
       "      <th>Year</th>\n",
       "      <th>Month</th>\n",
       "    </tr>\n",
       "    <tr>\n",
       "      <th>ID</th>\n",
       "      <th></th>\n",
       "      <th></th>\n",
       "      <th></th>\n",
       "      <th></th>\n",
       "      <th></th>\n",
       "      <th></th>\n",
       "      <th></th>\n",
       "    </tr>\n",
       "  </thead>\n",
       "  <tbody>\n",
       "    <tr>\n",
       "      <th>E01004177-Theft/Taking of Pedal Cycle-2016-8</th>\n",
       "      <td>E01004177</td>\n",
       "      <td>Sutton</td>\n",
       "      <td>Theft and Handling</td>\n",
       "      <td>Theft/Taking of Pedal Cycle</td>\n",
       "      <td>1</td>\n",
       "      <td>2016</td>\n",
       "      <td>8</td>\n",
       "    </tr>\n",
       "    <tr>\n",
       "      <th>E01000086-Other Theft Person-2009-5</th>\n",
       "      <td>E01000086</td>\n",
       "      <td>Barking and Dagenham</td>\n",
       "      <td>Theft and Handling</td>\n",
       "      <td>Other Theft Person</td>\n",
       "      <td>1</td>\n",
       "      <td>2009</td>\n",
       "      <td>5</td>\n",
       "    </tr>\n",
       "    <tr>\n",
       "      <th>E01001301-Other Theft Person-2012-1</th>\n",
       "      <td>E01001301</td>\n",
       "      <td>Ealing</td>\n",
       "      <td>Theft and Handling</td>\n",
       "      <td>Other Theft Person</td>\n",
       "      <td>2</td>\n",
       "      <td>2012</td>\n",
       "      <td>1</td>\n",
       "    </tr>\n",
       "    <tr>\n",
       "      <th>E01001794-Harassment-2013-2</th>\n",
       "      <td>E01001794</td>\n",
       "      <td>Hackney</td>\n",
       "      <td>Violence Against the Person</td>\n",
       "      <td>Harassment</td>\n",
       "      <td>1</td>\n",
       "      <td>2013</td>\n",
       "      <td>2</td>\n",
       "    </tr>\n",
       "    <tr>\n",
       "      <th>E01000733-Criminal Damage To Motor Vehicle-2016-4</th>\n",
       "      <td>E01000733</td>\n",
       "      <td>Bromley</td>\n",
       "      <td>Criminal Damage</td>\n",
       "      <td>Criminal Damage To Motor Vehicle</td>\n",
       "      <td>1</td>\n",
       "      <td>2016</td>\n",
       "      <td>4</td>\n",
       "    </tr>\n",
       "  </tbody>\n",
       "</table>\n",
       "</div>"
      ],
      "text/plain": [
       "                                                        LSOA  \\\n",
       "ID                                                             \n",
       "E01004177-Theft/Taking of Pedal Cycle-2016-8       E01004177   \n",
       "E01000086-Other Theft Person-2009-5                E01000086   \n",
       "E01001301-Other Theft Person-2012-1                E01001301   \n",
       "E01001794-Harassment-2013-2                        E01001794   \n",
       "E01000733-Criminal Damage To Motor Vehicle-2016-4  E01000733   \n",
       "\n",
       "                                                                 Region  \\\n",
       "ID                                                                        \n",
       "E01004177-Theft/Taking of Pedal Cycle-2016-8                     Sutton   \n",
       "E01000086-Other Theft Person-2009-5                Barking and Dagenham   \n",
       "E01001301-Other Theft Person-2012-1                              Ealing   \n",
       "E01001794-Harassment-2013-2                                     Hackney   \n",
       "E01000733-Criminal Damage To Motor Vehicle-2016-4               Bromley   \n",
       "\n",
       "                                                                      Category  \\\n",
       "ID                                                                               \n",
       "E01004177-Theft/Taking of Pedal Cycle-2016-8                Theft and Handling   \n",
       "E01000086-Other Theft Person-2009-5                         Theft and Handling   \n",
       "E01001301-Other Theft Person-2012-1                         Theft and Handling   \n",
       "E01001794-Harassment-2013-2                        Violence Against the Person   \n",
       "E01000733-Criminal Damage To Motor Vehicle-2016-4              Criminal Damage   \n",
       "\n",
       "                                                                             Detail  \\\n",
       "ID                                                                                    \n",
       "E01004177-Theft/Taking of Pedal Cycle-2016-8            Theft/Taking of Pedal Cycle   \n",
       "E01000086-Other Theft Person-2009-5                              Other Theft Person   \n",
       "E01001301-Other Theft Person-2012-1                              Other Theft Person   \n",
       "E01001794-Harassment-2013-2                                              Harassment   \n",
       "E01000733-Criminal Damage To Motor Vehicle-2016-4  Criminal Damage To Motor Vehicle   \n",
       "\n",
       "                                                   Value  Year  Month  \n",
       "ID                                                                     \n",
       "E01004177-Theft/Taking of Pedal Cycle-2016-8           1  2016      8  \n",
       "E01000086-Other Theft Person-2009-5                    1  2009      5  \n",
       "E01001301-Other Theft Person-2012-1                    2  2012      1  \n",
       "E01001794-Harassment-2013-2                            1  2013      2  \n",
       "E01000733-Criminal Damage To Motor Vehicle-2016-4      1  2016      4  "
      ]
     },
     "execution_count": 10,
     "metadata": {},
     "output_type": "execute_result"
    }
   ],
   "source": [
    "df_lon_crime2.set_index('ID', inplace=True) # Set ID as index of data frame\n",
    "df_lon_crime2.head() # show the data frame"
   ]
  },
  {
   "cell_type": "code",
   "execution_count": 11,
   "metadata": {},
   "outputs": [
    {
     "data": {
      "text/html": [
       "<div>\n",
       "<style scoped>\n",
       "    .dataframe tbody tr th:only-of-type {\n",
       "        vertical-align: middle;\n",
       "    }\n",
       "\n",
       "    .dataframe tbody tr th {\n",
       "        vertical-align: top;\n",
       "    }\n",
       "\n",
       "    .dataframe thead th {\n",
       "        text-align: right;\n",
       "    }\n",
       "</style>\n",
       "<table border=\"1\" class=\"dataframe\">\n",
       "  <thead>\n",
       "    <tr style=\"text-align: right;\">\n",
       "      <th></th>\n",
       "      <th>LSOA</th>\n",
       "      <th>Region</th>\n",
       "      <th>Category</th>\n",
       "      <th>Detail</th>\n",
       "      <th>Value</th>\n",
       "      <th>Year</th>\n",
       "      <th>Month</th>\n",
       "    </tr>\n",
       "    <tr>\n",
       "      <th>ID</th>\n",
       "      <th></th>\n",
       "      <th></th>\n",
       "      <th></th>\n",
       "      <th></th>\n",
       "      <th></th>\n",
       "      <th></th>\n",
       "      <th></th>\n",
       "    </tr>\n",
       "  </thead>\n",
       "  <tbody>\n",
       "    <tr>\n",
       "      <th>E01004165-Personal Property-2008-1</th>\n",
       "      <td>E01004165</td>\n",
       "      <td>Sutton</td>\n",
       "      <td>Robbery</td>\n",
       "      <td>Personal Property</td>\n",
       "      <td>1</td>\n",
       "      <td>2008</td>\n",
       "      <td>1</td>\n",
       "    </tr>\n",
       "    <tr>\n",
       "      <th>E01002749-Other Theft Person-2008-1</th>\n",
       "      <td>E01002749</td>\n",
       "      <td>Islington</td>\n",
       "      <td>Theft and Handling</td>\n",
       "      <td>Other Theft Person</td>\n",
       "      <td>2</td>\n",
       "      <td>2008</td>\n",
       "      <td>1</td>\n",
       "    </tr>\n",
       "    <tr>\n",
       "      <th>E01001011-Personal Property-2008-1</th>\n",
       "      <td>E01001011</td>\n",
       "      <td>Croydon</td>\n",
       "      <td>Robbery</td>\n",
       "      <td>Personal Property</td>\n",
       "      <td>1</td>\n",
       "      <td>2008</td>\n",
       "      <td>1</td>\n",
       "    </tr>\n",
       "    <tr>\n",
       "      <th>E01000789-Theft/Taking Of Motor Vehicle-2008-1</th>\n",
       "      <td>E01000789</td>\n",
       "      <td>Bromley</td>\n",
       "      <td>Theft and Handling</td>\n",
       "      <td>Theft/Taking Of Motor Vehicle</td>\n",
       "      <td>3</td>\n",
       "      <td>2008</td>\n",
       "      <td>1</td>\n",
       "    </tr>\n",
       "    <tr>\n",
       "      <th>E01001428-Common Assault-2008-1</th>\n",
       "      <td>E01001428</td>\n",
       "      <td>Enfield</td>\n",
       "      <td>Violence Against the Person</td>\n",
       "      <td>Common Assault</td>\n",
       "      <td>1</td>\n",
       "      <td>2008</td>\n",
       "      <td>1</td>\n",
       "    </tr>\n",
       "  </tbody>\n",
       "</table>\n",
       "</div>"
      ],
      "text/plain": [
       "                                                     LSOA     Region  \\\n",
       "ID                                                                     \n",
       "E01004165-Personal Property-2008-1              E01004165     Sutton   \n",
       "E01002749-Other Theft Person-2008-1             E01002749  Islington   \n",
       "E01001011-Personal Property-2008-1              E01001011    Croydon   \n",
       "E01000789-Theft/Taking Of Motor Vehicle-2008-1  E01000789    Bromley   \n",
       "E01001428-Common Assault-2008-1                 E01001428    Enfield   \n",
       "\n",
       "                                                                   Category  \\\n",
       "ID                                                                            \n",
       "E01004165-Personal Property-2008-1                                  Robbery   \n",
       "E01002749-Other Theft Person-2008-1                      Theft and Handling   \n",
       "E01001011-Personal Property-2008-1                                  Robbery   \n",
       "E01000789-Theft/Taking Of Motor Vehicle-2008-1           Theft and Handling   \n",
       "E01001428-Common Assault-2008-1                 Violence Against the Person   \n",
       "\n",
       "                                                                       Detail  \\\n",
       "ID                                                                              \n",
       "E01004165-Personal Property-2008-1                          Personal Property   \n",
       "E01002749-Other Theft Person-2008-1                        Other Theft Person   \n",
       "E01001011-Personal Property-2008-1                          Personal Property   \n",
       "E01000789-Theft/Taking Of Motor Vehicle-2008-1  Theft/Taking Of Motor Vehicle   \n",
       "E01001428-Common Assault-2008-1                                Common Assault   \n",
       "\n",
       "                                                Value  Year  Month  \n",
       "ID                                                                  \n",
       "E01004165-Personal Property-2008-1                  1  2008      1  \n",
       "E01002749-Other Theft Person-2008-1                 2  2008      1  \n",
       "E01001011-Personal Property-2008-1                  1  2008      1  \n",
       "E01000789-Theft/Taking Of Motor Vehicle-2008-1      3  2008      1  \n",
       "E01001428-Common Assault-2008-1                     1  2008      1  "
      ]
     },
     "execution_count": 11,
     "metadata": {},
     "output_type": "execute_result"
    }
   ],
   "source": [
    "# sorting data by years and month\n",
    "df_lon_crime2 = df_lon_crime2.sort_values(by=['Year', 'Month'], ascending=True)\n",
    "df_lon_crime2.head()"
   ]
  },
  {
   "cell_type": "markdown",
   "metadata": {},
   "source": [
    "To analyzes the number of crimes Burglary and Criminal Damage from 2008 to 2016, I created a new data frame with the name `df_crime_bur_cd`"
   ]
  },
  {
   "cell_type": "code",
   "execution_count": 12,
   "metadata": {},
   "outputs": [
    {
     "data": {
      "text/html": [
       "<div>\n",
       "<style scoped>\n",
       "    .dataframe tbody tr th:only-of-type {\n",
       "        vertical-align: middle;\n",
       "    }\n",
       "\n",
       "    .dataframe tbody tr th {\n",
       "        vertical-align: top;\n",
       "    }\n",
       "\n",
       "    .dataframe thead th {\n",
       "        text-align: right;\n",
       "    }\n",
       "</style>\n",
       "<table border=\"1\" class=\"dataframe\">\n",
       "  <thead>\n",
       "    <tr style=\"text-align: right;\">\n",
       "      <th></th>\n",
       "      <th>Burglary</th>\n",
       "      <th>Criminal Damage</th>\n",
       "    </tr>\n",
       "    <tr>\n",
       "      <th>Year</th>\n",
       "      <th></th>\n",
       "      <th></th>\n",
       "    </tr>\n",
       "  </thead>\n",
       "  <tbody>\n",
       "    <tr>\n",
       "      <th>2008</th>\n",
       "      <td>88092</td>\n",
       "      <td>91872</td>\n",
       "    </tr>\n",
       "    <tr>\n",
       "      <th>2009</th>\n",
       "      <td>90619</td>\n",
       "      <td>85565</td>\n",
       "    </tr>\n",
       "    <tr>\n",
       "      <th>2010</th>\n",
       "      <td>86826</td>\n",
       "      <td>77897</td>\n",
       "    </tr>\n",
       "    <tr>\n",
       "      <th>2011</th>\n",
       "      <td>93315</td>\n",
       "      <td>70914</td>\n",
       "    </tr>\n",
       "    <tr>\n",
       "      <th>2012</th>\n",
       "      <td>93392</td>\n",
       "      <td>62158</td>\n",
       "    </tr>\n",
       "  </tbody>\n",
       "</table>\n",
       "</div>"
      ],
      "text/plain": [
       "      Burglary  Criminal Damage\n",
       "Year                           \n",
       "2008     88092            91872\n",
       "2009     90619            85565\n",
       "2010     86826            77897\n",
       "2011     93315            70914\n",
       "2012     93392            62158"
      ]
     },
     "execution_count": 12,
     "metadata": {},
     "output_type": "execute_result"
    }
   ],
   "source": [
    "categories = ['Burglary', 'Criminal Damage']\n",
    "years = range(2008, 2017)\n",
    "\n",
    "crime_bur_cd = [] # create new list for store the number of crimes burglary and criminal damage\n",
    "\n",
    "# loops years from 2008 until 2016\n",
    "for year in years:\n",
    "    crime = {'Year': year} # create new dictionary to store the number of crimes by year and category\n",
    "    \n",
    "    # loops categories for get sum of value by category and year\n",
    "    for category in categories:\n",
    "        crime[category] = df_lon_crime2[(df_lon_crime2['Year'] == year) & (df_lon_crime2['Category'] == category)]['Value'].sum()\n",
    "    \n",
    "    # add the number of crimes by year and category to list\n",
    "    crime_bur_cd.append(crime)\n",
    "\n",
    "# create new data frame\n",
    "df_crime_bur_cd = pd.DataFrame(crime_bur_cd)\n",
    "df_crime_bur_cd.set_index('Year', inplace=True)\n",
    "df_crime_bur_cd.head()\n"
   ]
  },
  {
   "cell_type": "markdown",
   "metadata": {},
   "source": [
    "## Data Visualization\n",
    "In data visualization, we display data that has been processed in the form of graphics or visuals. The graphics used in this project are like:\n",
    "1. Line Plot \n",
    "2. Area Plot\n",
    "3. Bar Chart\n",
    "4. Pie Chart\n",
    "5. Histogram\n",
    "6. Box Plot\n",
    "7. Scatter Plot\n",
    "8. Word Clouds\n",
    "9. Folium Maps\n",
    "\n",
    "The results of the analysis using graphic above are used to answer the following question:\n",
    "1. What is the change in the number of criminal cases from 2008 to 2016?\n",
    "2. What are the most frequent criminal acts per region in 2016?"
   ]
  },
  {
   "cell_type": "markdown",
   "metadata": {},
   "source": [
    "## Line Plot\n",
    "Line plot is used to analyze trends that occur in crime cases in London from 2008 to 2016."
   ]
  },
  {
   "cell_type": "code",
   "execution_count": 17,
   "metadata": {},
   "outputs": [
    {
     "data": {
      "text/plain": [
       "Text(0, 0.5, 'Number of cases')"
      ]
     },
     "execution_count": 17,
     "metadata": {},
     "output_type": "execute_result"
    },
    {
     "data": {
      "image/png": "[encoded data removed]",
      "text/plain": [
       "<Figure size 864x432 with 1 Axes>"
      ]
     },
     "metadata": {},
     "output_type": "display_data"
    }
   ],
   "source": [
    "# get sum of value by year, and show as line plot\n",
    "df_lon_crime2.groupby(by=['Year'])['Value'].sum().plot(figsize=(12,6), marker='o', color='red')\n",
    "\n",
    "# set title and detail information\n",
    "plt.title('Criminal Cases in London from 2008 to 2016')\n",
    "plt.xlabel('Year')\n",
    "plt.ylabel('Number of cases')"
   ]
  },
  {
   "cell_type": "markdown",
   "metadata": {},
   "source": [
    "In the graph above, the change in the number of cases in London from 2008 to 2016, experienced an increase and decrease in the number of cases, but there was a significant decrease from 2012 to 2013 about 50922 cases, and also experienced a significant increase from 2014 to 2016 about 55938 cases."
   ]
  },
  {
   "cell_type": "markdown",
   "metadata": {},
   "source": [
    "## Area Plot\n",
    "Area plot is used to analyze trends of Burglary and Criminal Damage that occurred in London from 2008 to 2016."
   ]
  },
  {
   "cell_type": "code",
   "execution_count": 18,
   "metadata": {},
   "outputs": [
    {
     "data": {
      "text/plain": [
       "Text(0, 0.5, 'Number of cases')"
      ]
     },
     "execution_count": 18,
     "metadata": {},
     "output_type": "execute_result"
    },
    {
     "data": {
      "image/png": "[encoded data removed]",
      "text/plain": [
       "<Figure size 864x432 with 1 Axes>"
      ]
     },
     "metadata": {},
     "output_type": "display_data"
    }
   ],
   "source": [
    "df_crime_bur_cd.plot(kind='area', figsize=(12,6), color=['#eb4034','#279c2f'], stacked=False, alpha=0.2) # show area plot\n",
    "\n",
    "# set title and detail information\n",
    "plt.title('Burglary and Criminal Damage that occurred in London from 2008 to 2016')\n",
    "plt.xlabel('Year')\n",
    "plt.ylabel('Number of cases')"
   ]
  },
  {
   "cell_type": "markdown",
   "metadata": {},
   "source": [
    "In the graph above, the number of Burglary cases is lower than that of cases Criminal Damage, only occurring in 2008 with a difference of 3780 cases, while in the following years, Burglary cases were higher than Criminal Damage cases."
   ]
  }
 ],
 "metadata": {
  "kernelspec": {
   "display_name": "Python 3.9.12 ('base')",
   "language": "python",
   "name": "python3"
  },
  "language_info": {
   "codemirror_mode": {
    "name": "ipython",
    "version": 3
   },
   "file_extension": ".py",
   "mimetype": "text/x-python",
   "name": "python",
   "nbconvert_exporter": "python",
   "pygments_lexer": "ipython3",
   "version": "3.9.12"
  },
  "orig_nbformat": 4,
  "vscode": {
   "interpreter": {
    "hash": "859518a4b8c829b70c9c7d3ded8286a8176e720537f914cfaa5bc7d022a8c7b0"
   }
  }
 },
 "nbformat": 4,
 "nbformat_minor": 2
}
